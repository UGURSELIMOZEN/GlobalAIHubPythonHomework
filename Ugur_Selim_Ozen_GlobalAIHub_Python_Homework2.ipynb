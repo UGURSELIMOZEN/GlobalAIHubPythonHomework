{
 "cells": [
  {
   "cell_type": "markdown",
   "metadata": {
    "collapsed": true
   },
   "source": [
    "#  HOMEWORK 2\n",
    "\n",
    "The user will be defined.Get the data of this user by input method.Obtain information from user as follow :\n",
    "\n",
    "1. First Name\n",
    "2. Last  Name\n",
    "3. Age\n",
    "4. Date of birth(just year)\n",
    "\n",
    "Pass the user's information to the list and displays the screen using the for loop.Print all user information\n",
    "on the screen.\n",
    "\n",
    "If He/She is under 18 , print \"You can not go out because it's too dangerous\" on the screen. \n",
    "\n",
    "If He/She is over 18 , print \"You can  go out to the street\" on the screen. "
   ]
  },
  {
   "cell_type": "code",
   "execution_count": 10,
   "metadata": {
    "scrolled": true
   },
   "outputs": [
    {
     "name": "stdout",
     "output_type": "stream",
     "text": [
      "Please enter your first name : Lebron\n",
      "Please enter your last name : James\n",
      "Please enter your age : 31\n",
      "Please enter your year of birth : 1989\n",
      "\n",
      "User Personal Information\n",
      "\n",
      "First name : Lebron\n",
      "Last name : James\n",
      "Age : 31\n",
      "Date of Birth : 1989\n",
      "\n",
      "You can go out to the street !\n"
     ]
    }
   ],
   "source": [
    "i=0                        # I created this variable to control the for loop.\n",
    "Person_Info = list()       # I created this empty list to hold all inputs taken from user.\n",
    "First_Name = input('Please enter your first name : ')\n",
    "Person_Info.append(First_Name)\n",
    "Last_Name  = input('Please enter your last name : ')\n",
    "Person_Info.append(Last_Name)   ### In this line , I took all the input infos from user \n",
    "Age = int(input('Please enter your age : '))  ### and appended tot he Person_Info list.\n",
    "Person_Info.append(Age)\n",
    "Date_of_birth = int(input('Please enter your year of birth : '))\n",
    "Person_Info.append(Date_of_birth)\n",
    "\n",
    "print('\\nUser Personal Information\\n')\n",
    "for item in Person_Info :\n",
    "                            # In this for loop  ,I printed all informations of the user.\n",
    "    if i == 0 :\n",
    "        print('First name : {}'.format(item))\n",
    "    if i == 1 :\n",
    "        print('Last name : {}'.format(item))\n",
    "    if i == 2 :\n",
    "        print('Age : {}'.format(item))\n",
    "    if i == 3 :\n",
    "        print('Date of Birth : {}'.format(item))\n",
    "    i+=1\n",
    "    \n",
    "if Age >=18 :           # In this if-else structure , I created a rule basd on user's age \n",
    "    print('\\nYou can go out to the street !') # to control the entering and exiting .\n",
    "else:\n",
    "    print(\"\\nYou can not go out because it's too dangerous !\")\n",
    "        "
   ]
  },
  {
   "cell_type": "code",
   "execution_count": null,
   "metadata": {},
   "outputs": [],
   "source": []
  }
 ],
 "metadata": {
  "kernelspec": {
   "display_name": "Python 3.7",
   "language": "python",
   "name": "python3"
  },
  "language_info": {
   "codemirror_mode": {
    "name": "ipython",
    "version": 3
   },
   "file_extension": ".py",
   "mimetype": "text/x-python",
   "name": "python",
   "nbconvert_exporter": "python",
   "pygments_lexer": "ipython3",
   "version": "3.7.9"
  }
 },
 "nbformat": 4,
 "nbformat_minor": 1
}
